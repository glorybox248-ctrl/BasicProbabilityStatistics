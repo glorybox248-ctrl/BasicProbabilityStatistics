{
  "nbformat": 4,
  "nbformat_minor": 0,
  "metadata": {
    "colab": {
      "provenance": [],
      "authorship_tag": "ABX9TyPMB9Y2NspokhUYfOlEaOKv",
      "include_colab_link": true
    },
    "kernelspec": {
      "name": "python3",
      "display_name": "Python 3"
    },
    "language_info": {
      "name": "python"
    }
  },
  "cells": [
    {
      "cell_type": "markdown",
      "metadata": {
        "id": "view-in-github",
        "colab_type": "text"
      },
      "source": [
        "<a href=\"https://colab.research.google.com/github/glorybox248-ctrl/BasicProbabilityStatistics/blob/main/Colab_%20%EC%B2%AB%EB%B2%88%EC%A7%B8%20%EA%B3%BC%EC%A0%9C.ipynb\" target=\"_parent\"><img src=\"https://colab.research.google.com/assets/colab-badge.svg\" alt=\"Open In Colab\"/></a>"
      ]
    },
    {
      "cell_type": "code",
      "execution_count": null,
      "metadata": {
        "colab": {
          "base_uri": "https://localhost:8080/"
        },
        "id": "Oxt7wZfMZzwA",
        "outputId": "47f791bc-2db5-4f90-8768-cb638d757fd5"
      },
      "outputs": [
        {
          "output_type": "stream",
          "name": "stdout",
          "text": [
            "이름 : 김규범\n",
            "나이 : 20\n",
            "휴대전화 :010-6625-5568\n"
          ]
        }
      ],
      "source": [
        "print(\"이름 : 김규범\\n나이 : 20\\n휴대전화 :010-6625-5568\")"
      ]
    }
  ]
}